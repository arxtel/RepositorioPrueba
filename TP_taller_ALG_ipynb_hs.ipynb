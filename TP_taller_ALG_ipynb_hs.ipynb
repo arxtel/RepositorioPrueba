{
  "nbformat": 4,
  "nbformat_minor": 0,
  "metadata": {
    "colab": {
      "provenance": [],
      "authorship_tag": "ABX9TyOVkDO8qLHg9Bhz3D9gp51n",
      "include_colab_link": true
    },
    "kernelspec": {
      "name": "python3",
      "display_name": "Python 3"
    },
    "language_info": {
      "name": "python"
    }
  },
  "cells": [
    {
      "cell_type": "markdown",
      "metadata": {
        "id": "view-in-github",
        "colab_type": "text"
      },
      "source": [
        "<a href=\"https://colab.research.google.com/github/arxtel/RepositorioPrueba/blob/main/TP_taller_ALG_ipynb_hs.ipynb\" target=\"_parent\"><img src=\"https://colab.research.google.com/assets/colab-badge.svg\" alt=\"Open In Colab\"/></a>"
      ]
    },
    {
      "cell_type": "markdown",
      "source": [],
      "metadata": {
        "id": "fj7w2IPq3L7c"
      }
    },
    {
      "cell_type": "code",
      "source": [],
      "metadata": {
        "id": "O9tafiuWI4qo"
      },
      "execution_count": null,
      "outputs": []
    }
  ]
}